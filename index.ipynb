{
 "cells": [
  {
   "cell_type": "markdown",
   "metadata": {},
   "source": [
    "# Interactions - Lab"
   ]
  },
  {
   "cell_type": "markdown",
   "metadata": {},
   "source": [
    "## Introduction"
   ]
  },
  {
   "cell_type": "markdown",
   "metadata": {},
   "source": [
    "In this lab, you'll explore interactions in the Ames Housing dataset."
   ]
  },
  {
   "cell_type": "markdown",
   "metadata": {},
   "source": [
    "## Objectives"
   ]
  },
  {
   "cell_type": "markdown",
   "metadata": {},
   "source": [
    "You will be able to:\n",
    "- Implement interaction terms in Python using the `sklearn` and `statsmodels` packages \n",
    "- Interpret interaction variables in the context of a real-world problem "
   ]
  },
  {
   "cell_type": "markdown",
   "metadata": {},
   "source": [
    "## Build a baseline model "
   ]
  },
  {
   "cell_type": "markdown",
   "metadata": {},
   "source": [
    "You'll use a couple of built-in functions, which we imported for you below: "
   ]
  },
  {
   "cell_type": "code",
   "execution_count": 1,
   "metadata": {},
   "outputs": [],
   "source": [
    "from sklearn.linear_model import LinearRegression\n",
    "from sklearn.model_selection import cross_val_score\n",
    "from sklearn.model_selection import KFold\n",
    "import pandas as pd\n",
    "import numpy as np\n",
    "import matplotlib.pyplot as plt"
   ]
  },
  {
   "cell_type": "markdown",
   "metadata": {},
   "source": [
    "If you still want to build a model in the end, you can do that, but this lab will just focus on finding meaningful insights in interactions and how they can improve $R^2$ values."
   ]
  },
  {
   "cell_type": "code",
   "execution_count": 2,
   "metadata": {},
   "outputs": [],
   "source": [
    "regression = LinearRegression()"
   ]
  },
  {
   "cell_type": "markdown",
   "metadata": {},
   "source": [
    "Create a baseline model which includes all the variables we selected from the Ames housing data set to predict the house prices. Then use 10-fold cross-validation and report the mean $R^2$ value as the baseline $R^2$."
   ]
  },
  {
   "cell_type": "code",
   "execution_count": 3,
   "metadata": {},
   "outputs": [],
   "source": [
    "ames = pd.read_csv('ames.csv')\n",
    "\n",
    "continuous = ['LotArea', '1stFlrSF', 'GrLivArea', 'SalePrice']\n",
    "categoricals = ['BldgType', 'KitchenQual', 'SaleType', 'MSZoning', 'Street', 'Neighborhood']\n",
    "\n",
    "## code here\n",
    "ames_cont = ames[continuous]\n",
    "\n",
    "# log features\n",
    "log_names = [f'{column}_log' for column in ames_cont.columns]\n",
    "\n",
    "ames_log = np.log(ames_cont)\n",
    "ames_log.columns = log_names\n",
    "\n",
    "# normalize (subract mean and divide by std)\n",
    "\n",
    "def normalize(feature):\n",
    "    return (feature - feature.mean()) / feature.std()\n",
    "\n",
    "ames_log_norm = ames_log.apply(normalize)\n",
    "\n",
    "# one hot encode categoricals\n",
    "ames_ohe = pd.get_dummies(ames[categoricals], prefix=categoricals)\n",
    "\n",
    "preprocessed = pd.concat([ames_cont, ames_ohe], axis=1)\n",
    "\n",
    "X = preprocessed.drop('SalePrice', axis=1)\n",
    "y = preprocessed['SalePrice']"
   ]
  },
  {
   "cell_type": "code",
   "execution_count": 6,
   "metadata": {},
   "outputs": [
    {
     "data": {
      "text/plain": [
       "0.777381712804318"
      ]
     },
     "execution_count": 6,
     "metadata": {},
     "output_type": "execute_result"
    }
   ],
   "source": [
    "crossvalidation = KFold(n_splits=10, shuffle=True, random_state=1)\n",
    "baseline = np.mean(cross_val_score(regression, X, y, scoring='r2', cv=crossvalidation))\n",
    "baseline"
   ]
  },
  {
   "cell_type": "markdown",
   "metadata": {},
   "source": [
    "## See how interactions improve your baseline"
   ]
  },
  {
   "cell_type": "markdown",
   "metadata": {},
   "source": [
    "Next, create all possible combinations of interactions, loop over them and add them to the baseline model one by one to see how they affect the $R^2$. We'll look at the 3 interactions which have the biggest effect on our $R^2$, so print out the top 3 combinations.\n",
    "\n",
    "You will create a `for` loop to loop through all the combinations of 2 predictors. You can use `combinations` from itertools to create a list of all the pairwise combinations. To find more info on how this is done, have a look [here](https://docs.python.org/2/library/itertools.html).\n",
    "\n",
    "Since there are so many different neighbourhoods we will exclude"
   ]
  },
  {
   "cell_type": "code",
   "execution_count": 8,
   "metadata": {},
   "outputs": [],
   "source": [
    "from itertools import combinations"
   ]
  },
  {
   "cell_type": "code",
   "execution_count": 71,
   "metadata": {},
   "outputs": [
    {
     "data": {
      "text/html": [
       "<div>\n",
       "<style scoped>\n",
       "    .dataframe tbody tr th:only-of-type {\n",
       "        vertical-align: middle;\n",
       "    }\n",
       "\n",
       "    .dataframe tbody tr th {\n",
       "        vertical-align: top;\n",
       "    }\n",
       "\n",
       "    .dataframe thead th {\n",
       "        text-align: right;\n",
       "    }\n",
       "</style>\n",
       "<table border=\"1\" class=\"dataframe\">\n",
       "  <thead>\n",
       "    <tr style=\"text-align: right;\">\n",
       "      <th></th>\n",
       "      <th>Interaction</th>\n",
       "      <th>R2</th>\n",
       "    </tr>\n",
       "  </thead>\n",
       "  <tbody>\n",
       "    <tr>\n",
       "      <th>34</th>\n",
       "      <td>(LotArea, Neighborhood_Edwards)</td>\n",
       "      <td>0.809336</td>\n",
       "    </tr>\n",
       "    <tr>\n",
       "      <th>135</th>\n",
       "      <td>(GrLivArea, Neighborhood_Edwards)</td>\n",
       "      <td>0.807711</td>\n",
       "    </tr>\n",
       "    <tr>\n",
       "      <th>85</th>\n",
       "      <td>(1stFlrSF, Neighborhood_Edwards)</td>\n",
       "      <td>0.803341</td>\n",
       "    </tr>\n",
       "    <tr>\n",
       "      <th>17</th>\n",
       "      <td>(LotArea, SaleType_New)</td>\n",
       "      <td>0.793130</td>\n",
       "    </tr>\n",
       "    <tr>\n",
       "      <th>143</th>\n",
       "      <td>(GrLivArea, Neighborhood_NoRidge)</td>\n",
       "      <td>0.793079</td>\n",
       "    </tr>\n",
       "  </tbody>\n",
       "</table>\n",
       "</div>"
      ],
      "text/plain": [
       "                           Interaction        R2\n",
       "34     (LotArea, Neighborhood_Edwards)  0.809336\n",
       "135  (GrLivArea, Neighborhood_Edwards)  0.807711\n",
       "85    (1stFlrSF, Neighborhood_Edwards)  0.803341\n",
       "17             (LotArea, SaleType_New)  0.793130\n",
       "143  (GrLivArea, Neighborhood_NoRidge)  0.793079"
      ]
     },
     "execution_count": 71,
     "metadata": {},
     "output_type": "execute_result"
    }
   ],
   "source": [
    "# code to find top interactions by R^2 value here\n",
    "\n",
    "comb_predictors = list(combinations(X.columns, 2))\n",
    "\n",
    "comb_r2 = []\n",
    "\n",
    "X_interact = X.copy()\n",
    "\n",
    "for pred1, pred2 in comb_predictors:\n",
    "    \n",
    "    crossvalidation = KFold(n_splits=10, shuffle=True, random_state=1)\n",
    "    \n",
    "    X_interact['interaction'] = X[pred1] * X[pred2]\n",
    "\n",
    "    baseline = np.mean(cross_val_score(regression, X_interact, y, scoring='r2', cv=crossvalidation))\n",
    "    comb_r2.append(baseline)\n",
    "    #print(baseline)\n",
    "    \n",
    "#comb_r2 \n",
    "df_comb_r2 = pd.DataFrame(list(zip(comb_predictors, comb_r2)), columns = ['Interaction', 'R2'])\n",
    "df_comb_r2.sort_values(by='R2', ascending=False, inplace=True)\n",
    "df_comb_r2.head()"
   ]
  },
  {
   "cell_type": "markdown",
   "metadata": {},
   "source": [
    "It looks like the top interactions involve the Neighborhood_Edwards feature so lets add the interaction between LotArea and Edwards to our model.\n",
    "\n",
    "We can interpret this feature as the relationship between LotArea and SalePrice when the house is in Edwards or not."
   ]
  },
  {
   "cell_type": "markdown",
   "metadata": {},
   "source": [
    "## Visualize the Interaction\n",
    "\n",
    "Separate all houses that are located in Edwards and those that are not. Run a linear regression on each population against `SalePrice`. Visualize the regression line and data points with price on the y axis and LotArea on the x axis."
   ]
  },
  {
   "cell_type": "code",
   "execution_count": 60,
   "metadata": {},
   "outputs": [
    {
     "name": "stdout",
     "output_type": "stream",
     "text": [
      "[1.47167626]\n",
      "[2.1099707]\n"
     ]
    }
   ],
   "source": [
    "df_edward = preprocessed[preprocessed['Neighborhood_Edwards'] == 1]\n",
    "df_NOT_edward = preprocessed[preprocessed['Neighborhood_Edwards'] == 0]\n",
    "df_NOT_edward.head()\n",
    "\n",
    "regression_1 = LinearRegression()\n",
    "regression_2 = LinearRegression()\n",
    "\n",
    "lot_1 = df_edward['LotArea'].values.reshape(-1, 1)\n",
    "lot_2 = df_NOT_edward['LotArea'].values.reshape(-1, 1)\n",
    "\n",
    "regression_1.fit(lot_1, df_edward['SalePrice'])\n",
    "regression_2.fit(lot_2, df_NOT_edward['SalePrice'])\n",
    "\n",
    "pred_1 = regression_1.predict(lot_1)\n",
    "pred_2 = regression_2.predict(lot_2)\n",
    "\n",
    "print(regression_1.coef_)\n",
    "print(regression_2.coef_)"
   ]
  },
  {
   "cell_type": "code",
   "execution_count": 68,
   "metadata": {},
   "outputs": [
    {
     "data": {
      "image/png": "[encoded data removed]",
      "text/plain": [
       "<Figure size 720x432 with 1 Axes>"
      ]
     },
     "metadata": {
      "needs_background": "light"
     },
     "output_type": "display_data"
    }
   ],
   "source": [
    "# Visualization code here\n",
    "plt.figure(figsize=(10,6))\n",
    "\n",
    "plt.scatter(lot_1, df_edward['SalePrice'],  color='blue', alpha = 0.5, label = 'Edward Neigborhood')\n",
    "plt.scatter(lot_2, df_NOT_edward['SalePrice'],  color='red', alpha = 0.2, label = 'Other Neighborhoods')\n",
    "\n",
    "plt.plot(lot_1, pred_1,  color='blue', linewidth=2)\n",
    "plt.plot(lot_2, pred_2,  color='red', linewidth=2)\n",
    "\n",
    "plt.ylabel('Sale Price')\n",
    "plt.xlabel('Lot Area')\n",
    "plt.xlim([0, 25000])\n",
    "plt.ylim([0, 500000])\n",
    "plt.legend();"
   ]
  },
  {
   "cell_type": "markdown",
   "metadata": {},
   "source": [
    "## Build a final model with interactions"
   ]
  },
  {
   "cell_type": "markdown",
   "metadata": {},
   "source": [
    "Use 10-fold cross-validation to build a model using the above interaction. "
   ]
  },
  {
   "cell_type": "code",
   "execution_count": 70,
   "metadata": {},
   "outputs": [
    {
     "data": {
      "text/plain": [
       "0.8093363403933006"
      ]
     },
     "execution_count": 70,
     "metadata": {},
     "output_type": "execute_result"
    }
   ],
   "source": [
    "# code here\n",
    "crossvalidation = KFold(n_splits=10, shuffle=True, random_state=1)\n",
    "X_interact = X.copy()\n",
    "X_interact['interaction'] = X['Neighborhood_Edwards'] * X['LotArea']\n",
    "baseline = np.mean(cross_val_score(regression, X_interact, y, scoring='r2', cv=crossvalidation))\n",
    "baseline"
   ]
  },
  {
   "cell_type": "markdown",
   "metadata": {},
   "source": [
    "Our $R^2$ has increased considerably! Let's have a look in `statsmodels` to see if this interactions are significant."
   ]
  },
  {
   "cell_type": "code",
   "execution_count": 72,
   "metadata": {},
   "outputs": [
    {
     "name": "stderr",
     "output_type": "stream",
     "text": [
      "/Users/kamileyagci/opt/anaconda3/envs/learn-env/lib/python3.6/site-packages/statsmodels/tools/_testing.py:19: FutureWarning: pandas.util.testing is deprecated. Use the functions in the public API at pandas.testing instead.\n",
      "  import pandas.util.testing as tm\n",
      "/Users/kamileyagci/opt/anaconda3/envs/learn-env/lib/python3.6/site-packages/statsmodels/base/model.py:1294: RuntimeWarning: invalid value encountered in true_divide\n",
      "  return self.params / self.bse\n",
      "/Users/kamileyagci/opt/anaconda3/envs/learn-env/lib/python3.6/site-packages/scipy/stats/_distn_infrastructure.py:901: RuntimeWarning: invalid value encountered in greater\n",
      "  return (a < x) & (x < b)\n",
      "/Users/kamileyagci/opt/anaconda3/envs/learn-env/lib/python3.6/site-packages/scipy/stats/_distn_infrastructure.py:901: RuntimeWarning: invalid value encountered in less\n",
      "  return (a < x) & (x < b)\n",
      "/Users/kamileyagci/opt/anaconda3/envs/learn-env/lib/python3.6/site-packages/scipy/stats/_distn_infrastructure.py:1892: RuntimeWarning: invalid value encountered in less_equal\n",
      "  cond2 = cond0 & (x <= _a)\n"
     ]
    },
    {
     "data": {
      "text/html": [
       "<table class=\"simpletable\">\n",
       "<caption>OLS Regression Results</caption>\n",
       "<tr>\n",
       "  <th>Dep. Variable:</th>        <td>SalePrice</td>    <th>  R-squared:         </th> <td>   0.812</td> \n",
       "</tr>\n",
       "<tr>\n",
       "  <th>Model:</th>                   <td>OLS</td>       <th>  Adj. R-squared:    </th> <td>   0.806</td> \n",
       "</tr>\n",
       "<tr>\n",
       "  <th>Method:</th>             <td>Least Squares</td>  <th>  F-statistic:       </th> <td>   129.8</td> \n",
       "</tr>\n",
       "<tr>\n",
       "  <th>Date:</th>             <td>Wed, 01 Dec 2021</td> <th>  Prob (F-statistic):</th>  <td>  0.00</td>  \n",
       "</tr>\n",
       "<tr>\n",
       "  <th>Time:</th>                 <td>02:59:55</td>     <th>  Log-Likelihood:    </th> <td> -17324.</td> \n",
       "</tr>\n",
       "<tr>\n",
       "  <th>No. Observations:</th>      <td>  1460</td>      <th>  AIC:               </th> <td>3.474e+04</td>\n",
       "</tr>\n",
       "<tr>\n",
       "  <th>Df Residuals:</th>          <td>  1412</td>      <th>  BIC:               </th> <td>3.500e+04</td>\n",
       "</tr>\n",
       "<tr>\n",
       "  <th>Df Model:</th>              <td>    47</td>      <th>                     </th>     <td> </td>    \n",
       "</tr>\n",
       "<tr>\n",
       "  <th>Covariance Type:</th>      <td>nonrobust</td>    <th>                     </th>     <td> </td>    \n",
       "</tr>\n",
       "</table>\n",
       "<table class=\"simpletable\">\n",
       "<tr>\n",
       "            <td></td>              <th>coef</th>     <th>std err</th>      <th>t</th>      <th>P>|t|</th>  <th>[0.025</th>    <th>0.975]</th>  \n",
       "</tr>\n",
       "<tr>\n",
       "  <th>const</th>                <td> 2.814e+04</td> <td> 4500.202</td> <td>    6.254</td> <td> 0.000</td> <td> 1.93e+04</td> <td>  3.7e+04</td>\n",
       "</tr>\n",
       "<tr>\n",
       "  <th>LotArea</th>              <td>    0.4488</td> <td>    0.109</td> <td>    4.103</td> <td> 0.000</td> <td>    0.234</td> <td>    0.663</td>\n",
       "</tr>\n",
       "<tr>\n",
       "  <th>1stFlrSF</th>             <td>   26.7057</td> <td>    3.448</td> <td>    7.745</td> <td> 0.000</td> <td>   19.942</td> <td>   33.470</td>\n",
       "</tr>\n",
       "<tr>\n",
       "  <th>GrLivArea</th>            <td>   53.2493</td> <td>    2.538</td> <td>   20.982</td> <td> 0.000</td> <td>   48.271</td> <td>   58.228</td>\n",
       "</tr>\n",
       "<tr>\n",
       "  <th>BldgType_1Fam</th>        <td>  2.71e+04</td> <td> 2812.793</td> <td>    9.633</td> <td> 0.000</td> <td> 2.16e+04</td> <td> 3.26e+04</td>\n",
       "</tr>\n",
       "<tr>\n",
       "  <th>BldgType_2fmCon</th>      <td> 1.317e+04</td> <td> 6067.297</td> <td>    2.171</td> <td> 0.030</td> <td> 1270.404</td> <td> 2.51e+04</td>\n",
       "</tr>\n",
       "<tr>\n",
       "  <th>BldgType_Duplex</th>      <td>-2476.0164</td> <td> 4885.447</td> <td>   -0.507</td> <td> 0.612</td> <td>-1.21e+04</td> <td> 7107.499</td>\n",
       "</tr>\n",
       "<tr>\n",
       "  <th>BldgType_Twnhs</th>       <td>-1.031e+04</td> <td> 5939.969</td> <td>   -1.736</td> <td> 0.083</td> <td> -2.2e+04</td> <td> 1338.319</td>\n",
       "</tr>\n",
       "<tr>\n",
       "  <th>BldgType_TwnhsE</th>      <td>  663.6056</td> <td> 3966.280</td> <td>    0.167</td> <td> 0.867</td> <td>-7116.829</td> <td> 8444.040</td>\n",
       "</tr>\n",
       "<tr>\n",
       "  <th>KitchenQual_Ex</th>       <td> 5.759e+04</td> <td> 4030.636</td> <td>   14.287</td> <td> 0.000</td> <td> 4.97e+04</td> <td> 6.55e+04</td>\n",
       "</tr>\n",
       "<tr>\n",
       "  <th>KitchenQual_Fa</th>       <td>-2.417e+04</td> <td> 4857.062</td> <td>   -4.976</td> <td> 0.000</td> <td>-3.37e+04</td> <td>-1.46e+04</td>\n",
       "</tr>\n",
       "<tr>\n",
       "  <th>KitchenQual_Gd</th>       <td> 5866.1404</td> <td> 2431.822</td> <td>    2.412</td> <td> 0.016</td> <td> 1095.768</td> <td> 1.06e+04</td>\n",
       "</tr>\n",
       "<tr>\n",
       "  <th>KitchenQual_TA</th>       <td>-1.114e+04</td> <td> 2288.479</td> <td>   -4.870</td> <td> 0.000</td> <td>-1.56e+04</td> <td>-6654.665</td>\n",
       "</tr>\n",
       "<tr>\n",
       "  <th>SaleType_COD</th>         <td>-1.575e+04</td> <td> 6905.746</td> <td>   -2.280</td> <td> 0.023</td> <td>-2.93e+04</td> <td>-2199.120</td>\n",
       "</tr>\n",
       "<tr>\n",
       "  <th>SaleType_CWD</th>         <td> 7858.4610</td> <td> 1.64e+04</td> <td>    0.479</td> <td> 0.632</td> <td>-2.43e+04</td> <td>    4e+04</td>\n",
       "</tr>\n",
       "<tr>\n",
       "  <th>SaleType_Con</th>         <td> 4.574e+04</td> <td> 2.31e+04</td> <td>    1.978</td> <td> 0.048</td> <td>  378.479</td> <td> 9.11e+04</td>\n",
       "</tr>\n",
       "<tr>\n",
       "  <th>SaleType_ConLD</th>       <td>  778.1770</td> <td> 1.18e+04</td> <td>    0.066</td> <td> 0.948</td> <td>-2.24e+04</td> <td>  2.4e+04</td>\n",
       "</tr>\n",
       "<tr>\n",
       "  <th>SaleType_ConLI</th>       <td>-4330.8428</td> <td> 1.48e+04</td> <td>   -0.292</td> <td> 0.770</td> <td>-3.34e+04</td> <td> 2.48e+04</td>\n",
       "</tr>\n",
       "<tr>\n",
       "  <th>SaleType_ConLw</th>       <td>-8646.9295</td> <td> 1.49e+04</td> <td>   -0.581</td> <td> 0.561</td> <td>-3.78e+04</td> <td> 2.05e+04</td>\n",
       "</tr>\n",
       "<tr>\n",
       "  <th>SaleType_New</th>         <td> 1.153e+04</td> <td> 5843.845</td> <td>    1.973</td> <td> 0.049</td> <td>   64.781</td> <td>  2.3e+04</td>\n",
       "</tr>\n",
       "<tr>\n",
       "  <th>SaleType_Oth</th>         <td>-4543.6133</td> <td> 1.87e+04</td> <td>   -0.243</td> <td> 0.808</td> <td>-4.13e+04</td> <td> 3.22e+04</td>\n",
       "</tr>\n",
       "<tr>\n",
       "  <th>SaleType_WD</th>          <td>-4492.3855</td> <td> 4919.425</td> <td>   -0.913</td> <td> 0.361</td> <td>-1.41e+04</td> <td> 5157.783</td>\n",
       "</tr>\n",
       "<tr>\n",
       "  <th>MSZoning_C (all)</th>     <td>-1.366e+04</td> <td> 1.12e+04</td> <td>   -1.221</td> <td> 0.222</td> <td>-3.56e+04</td> <td> 8286.269</td>\n",
       "</tr>\n",
       "<tr>\n",
       "  <th>MSZoning_FV</th>          <td> 1.182e+04</td> <td> 8213.142</td> <td>    1.439</td> <td> 0.150</td> <td>-4290.647</td> <td> 2.79e+04</td>\n",
       "</tr>\n",
       "<tr>\n",
       "  <th>MSZoning_RH</th>          <td>  493.9610</td> <td> 8413.751</td> <td>    0.059</td> <td> 0.953</td> <td> -1.6e+04</td> <td>  1.7e+04</td>\n",
       "</tr>\n",
       "<tr>\n",
       "  <th>MSZoning_RL</th>          <td> 9127.0284</td> <td> 4181.274</td> <td>    2.183</td> <td> 0.029</td> <td>  924.852</td> <td> 1.73e+04</td>\n",
       "</tr>\n",
       "<tr>\n",
       "  <th>MSZoning_RM</th>          <td> 2.037e+04</td> <td> 4689.952</td> <td>    4.342</td> <td> 0.000</td> <td> 1.12e+04</td> <td> 2.96e+04</td>\n",
       "</tr>\n",
       "<tr>\n",
       "  <th>Street_Grvl</th>          <td> 1.597e+04</td> <td> 9460.524</td> <td>    1.688</td> <td> 0.092</td> <td>-2584.183</td> <td> 3.45e+04</td>\n",
       "</tr>\n",
       "<tr>\n",
       "  <th>Street_Pave</th>          <td> 1.217e+04</td> <td> 6512.363</td> <td>    1.869</td> <td> 0.062</td> <td> -606.242</td> <td> 2.49e+04</td>\n",
       "</tr>\n",
       "<tr>\n",
       "  <th>Neighborhood_Blmngtn</th> <td> 1.773e+04</td> <td> 9375.329</td> <td>    1.891</td> <td> 0.059</td> <td> -662.688</td> <td> 3.61e+04</td>\n",
       "</tr>\n",
       "<tr>\n",
       "  <th>Neighborhood_Blueste</th> <td> 1.098e+04</td> <td> 2.45e+04</td> <td>    0.449</td> <td> 0.653</td> <td> -3.7e+04</td> <td>  5.9e+04</td>\n",
       "</tr>\n",
       "<tr>\n",
       "  <th>Neighborhood_BrDale</th>  <td>-9908.8240</td> <td> 1.03e+04</td> <td>   -0.960</td> <td> 0.337</td> <td>-3.02e+04</td> <td> 1.03e+04</td>\n",
       "</tr>\n",
       "<tr>\n",
       "  <th>Neighborhood_BrkSide</th> <td>-3.411e+04</td> <td> 5384.409</td> <td>   -6.336</td> <td> 0.000</td> <td>-4.47e+04</td> <td>-2.36e+04</td>\n",
       "</tr>\n",
       "<tr>\n",
       "  <th>Neighborhood_ClearCr</th> <td>-3714.4064</td> <td> 7017.101</td> <td>   -0.529</td> <td> 0.597</td> <td>-1.75e+04</td> <td> 1.01e+04</td>\n",
       "</tr>\n",
       "<tr>\n",
       "  <th>Neighborhood_CollgCr</th> <td> 5646.3531</td> <td> 3498.595</td> <td>    1.614</td> <td> 0.107</td> <td>-1216.650</td> <td> 1.25e+04</td>\n",
       "</tr>\n",
       "<tr>\n",
       "  <th>Neighborhood_Crawfor</th> <td> 7977.0340</td> <td> 5147.858</td> <td>    1.550</td> <td> 0.121</td> <td>-2121.238</td> <td> 1.81e+04</td>\n",
       "</tr>\n",
       "<tr>\n",
       "  <th>Neighborhood_Edwards</th> <td>-3.869e+04</td> <td> 3911.576</td> <td>   -9.892</td> <td> 0.000</td> <td>-4.64e+04</td> <td> -3.1e+04</td>\n",
       "</tr>\n",
       "<tr>\n",
       "  <th>Neighborhood_Gilbert</th> <td> 1675.8161</td> <td> 4454.387</td> <td>    0.376</td> <td> 0.707</td> <td>-7062.111</td> <td> 1.04e+04</td>\n",
       "</tr>\n",
       "<tr>\n",
       "  <th>Neighborhood_IDOTRR</th>  <td>-4.913e+04</td> <td> 7971.237</td> <td>   -6.163</td> <td> 0.000</td> <td>-6.48e+04</td> <td>-3.35e+04</td>\n",
       "</tr>\n",
       "<tr>\n",
       "  <th>Neighborhood_MeadowV</th> <td>-2.442e+04</td> <td> 9441.909</td> <td>   -2.587</td> <td> 0.010</td> <td>-4.29e+04</td> <td>-5901.628</td>\n",
       "</tr>\n",
       "<tr>\n",
       "  <th>Neighborhood_Mitchel</th> <td>-7674.9412</td> <td> 5284.329</td> <td>   -1.452</td> <td> 0.147</td> <td> -1.8e+04</td> <td> 2691.039</td>\n",
       "</tr>\n",
       "<tr>\n",
       "  <th>Neighborhood_NAmes</th>   <td>-2.161e+04</td> <td> 3210.721</td> <td>   -6.731</td> <td> 0.000</td> <td>-2.79e+04</td> <td>-1.53e+04</td>\n",
       "</tr>\n",
       "<tr>\n",
       "  <th>Neighborhood_NPkVill</th> <td>  1.85e+04</td> <td> 1.21e+04</td> <td>    1.534</td> <td> 0.125</td> <td>-5153.080</td> <td> 4.21e+04</td>\n",
       "</tr>\n",
       "<tr>\n",
       "  <th>Neighborhood_NWAmes</th>  <td>-1.006e+04</td> <td> 4537.851</td> <td>   -2.217</td> <td> 0.027</td> <td> -1.9e+04</td> <td>-1159.699</td>\n",
       "</tr>\n",
       "<tr>\n",
       "  <th>Neighborhood_NoRidge</th> <td> 7.247e+04</td> <td> 6095.110</td> <td>   11.890</td> <td> 0.000</td> <td> 6.05e+04</td> <td> 8.44e+04</td>\n",
       "</tr>\n",
       "<tr>\n",
       "  <th>Neighborhood_NridgHt</th> <td> 6.486e+04</td> <td> 4950.528</td> <td>   13.103</td> <td> 0.000</td> <td> 5.52e+04</td> <td> 7.46e+04</td>\n",
       "</tr>\n",
       "<tr>\n",
       "  <th>Neighborhood_OldTown</th> <td>-5.377e+04</td> <td> 5267.649</td> <td>  -10.207</td> <td> 0.000</td> <td>-6.41e+04</td> <td>-4.34e+04</td>\n",
       "</tr>\n",
       "<tr>\n",
       "  <th>Neighborhood_SWISU</th>   <td>-4.452e+04</td> <td> 7407.211</td> <td>   -6.010</td> <td> 0.000</td> <td> -5.9e+04</td> <td>   -3e+04</td>\n",
       "</tr>\n",
       "<tr>\n",
       "  <th>Neighborhood_Sawyer</th>  <td>-2.331e+04</td> <td> 4574.219</td> <td>   -5.096</td> <td> 0.000</td> <td>-3.23e+04</td> <td>-1.43e+04</td>\n",
       "</tr>\n",
       "<tr>\n",
       "  <th>Neighborhood_SawyerW</th> <td>-1208.5818</td> <td> 4955.327</td> <td>   -0.244</td> <td> 0.807</td> <td>-1.09e+04</td> <td> 8512.014</td>\n",
       "</tr>\n",
       "<tr>\n",
       "  <th>Neighborhood_Somerst</th> <td> 2.408e+04</td> <td> 7908.304</td> <td>    3.045</td> <td> 0.002</td> <td> 8570.628</td> <td> 3.96e+04</td>\n",
       "</tr>\n",
       "<tr>\n",
       "  <th>Neighborhood_StoneBr</th> <td> 7.578e+04</td> <td> 7481.498</td> <td>   10.129</td> <td> 0.000</td> <td> 6.11e+04</td> <td> 9.05e+04</td>\n",
       "</tr>\n",
       "<tr>\n",
       "  <th>Neighborhood_Timber</th>  <td> 1.695e+04</td> <td> 6036.034</td> <td>    2.809</td> <td> 0.005</td> <td> 5113.550</td> <td> 2.88e+04</td>\n",
       "</tr>\n",
       "<tr>\n",
       "  <th>Neighborhood_Veenker</th> <td> 3.361e+04</td> <td> 1.06e+04</td> <td>    3.160</td> <td> 0.002</td> <td> 1.27e+04</td> <td> 5.45e+04</td>\n",
       "</tr>\n",
       "<tr>\n",
       "  <th>interaction</th>          <td>         0</td> <td>        0</td> <td>      nan</td> <td>   nan</td> <td>        0</td> <td>        0</td>\n",
       "</tr>\n",
       "</table>\n",
       "<table class=\"simpletable\">\n",
       "<tr>\n",
       "  <th>Omnibus:</th>       <td>409.806</td> <th>  Durbin-Watson:     </th> <td>   1.950</td> \n",
       "</tr>\n",
       "<tr>\n",
       "  <th>Prob(Omnibus):</th> <td> 0.000</td>  <th>  Jarque-Bera (JB):  </th> <td>28276.179</td>\n",
       "</tr>\n",
       "<tr>\n",
       "  <th>Skew:</th>          <td>-0.334</td>  <th>  Prob(JB):          </th> <td>    0.00</td> \n",
       "</tr>\n",
       "<tr>\n",
       "  <th>Kurtosis:</th>      <td>24.549</td>  <th>  Cond. No.          </th> <td>4.77e+17</td> \n",
       "</tr>\n",
       "</table><br/><br/>Warnings:<br/>[1] Standard Errors assume that the covariance matrix of the errors is correctly specified.<br/>[2] The smallest eigenvalue is 1.36e-24. This might indicate that there are<br/>strong multicollinearity problems or that the design matrix is singular."
      ],
      "text/plain": [
       "<class 'statsmodels.iolib.summary.Summary'>\n",
       "\"\"\"\n",
       "                            OLS Regression Results                            \n",
       "==============================================================================\n",
       "Dep. Variable:              SalePrice   R-squared:                       0.812\n",
       "Model:                            OLS   Adj. R-squared:                  0.806\n",
       "Method:                 Least Squares   F-statistic:                     129.8\n",
       "Date:                Wed, 01 Dec 2021   Prob (F-statistic):               0.00\n",
       "Time:                        02:59:55   Log-Likelihood:                -17324.\n",
       "No. Observations:                1460   AIC:                         3.474e+04\n",
       "Df Residuals:                    1412   BIC:                         3.500e+04\n",
       "Df Model:                          47                                         \n",
       "Covariance Type:            nonrobust                                         \n",
       "========================================================================================\n",
       "                           coef    std err          t      P>|t|      [0.025      0.975]\n",
       "----------------------------------------------------------------------------------------\n",
       "const                 2.814e+04   4500.202      6.254      0.000    1.93e+04     3.7e+04\n",
       "LotArea                  0.4488      0.109      4.103      0.000       0.234       0.663\n",
       "1stFlrSF                26.7057      3.448      7.745      0.000      19.942      33.470\n",
       "GrLivArea               53.2493      2.538     20.982      0.000      48.271      58.228\n",
       "BldgType_1Fam          2.71e+04   2812.793      9.633      0.000    2.16e+04    3.26e+04\n",
       "BldgType_2fmCon       1.317e+04   6067.297      2.171      0.030    1270.404    2.51e+04\n",
       "BldgType_Duplex      -2476.0164   4885.447     -0.507      0.612   -1.21e+04    7107.499\n",
       "BldgType_Twnhs       -1.031e+04   5939.969     -1.736      0.083    -2.2e+04    1338.319\n",
       "BldgType_TwnhsE        663.6056   3966.280      0.167      0.867   -7116.829    8444.040\n",
       "KitchenQual_Ex        5.759e+04   4030.636     14.287      0.000    4.97e+04    6.55e+04\n",
       "KitchenQual_Fa       -2.417e+04   4857.062     -4.976      0.000   -3.37e+04   -1.46e+04\n",
       "KitchenQual_Gd        5866.1404   2431.822      2.412      0.016    1095.768    1.06e+04\n",
       "KitchenQual_TA       -1.114e+04   2288.479     -4.870      0.000   -1.56e+04   -6654.665\n",
       "SaleType_COD         -1.575e+04   6905.746     -2.280      0.023   -2.93e+04   -2199.120\n",
       "SaleType_CWD          7858.4610   1.64e+04      0.479      0.632   -2.43e+04       4e+04\n",
       "SaleType_Con          4.574e+04   2.31e+04      1.978      0.048     378.479    9.11e+04\n",
       "SaleType_ConLD         778.1770   1.18e+04      0.066      0.948   -2.24e+04     2.4e+04\n",
       "SaleType_ConLI       -4330.8428   1.48e+04     -0.292      0.770   -3.34e+04    2.48e+04\n",
       "SaleType_ConLw       -8646.9295   1.49e+04     -0.581      0.561   -3.78e+04    2.05e+04\n",
       "SaleType_New          1.153e+04   5843.845      1.973      0.049      64.781     2.3e+04\n",
       "SaleType_Oth         -4543.6133   1.87e+04     -0.243      0.808   -4.13e+04    3.22e+04\n",
       "SaleType_WD          -4492.3855   4919.425     -0.913      0.361   -1.41e+04    5157.783\n",
       "MSZoning_C (all)     -1.366e+04   1.12e+04     -1.221      0.222   -3.56e+04    8286.269\n",
       "MSZoning_FV           1.182e+04   8213.142      1.439      0.150   -4290.647    2.79e+04\n",
       "MSZoning_RH            493.9610   8413.751      0.059      0.953    -1.6e+04     1.7e+04\n",
       "MSZoning_RL           9127.0284   4181.274      2.183      0.029     924.852    1.73e+04\n",
       "MSZoning_RM           2.037e+04   4689.952      4.342      0.000    1.12e+04    2.96e+04\n",
       "Street_Grvl           1.597e+04   9460.524      1.688      0.092   -2584.183    3.45e+04\n",
       "Street_Pave           1.217e+04   6512.363      1.869      0.062    -606.242    2.49e+04\n",
       "Neighborhood_Blmngtn  1.773e+04   9375.329      1.891      0.059    -662.688    3.61e+04\n",
       "Neighborhood_Blueste  1.098e+04   2.45e+04      0.449      0.653    -3.7e+04     5.9e+04\n",
       "Neighborhood_BrDale  -9908.8240   1.03e+04     -0.960      0.337   -3.02e+04    1.03e+04\n",
       "Neighborhood_BrkSide -3.411e+04   5384.409     -6.336      0.000   -4.47e+04   -2.36e+04\n",
       "Neighborhood_ClearCr -3714.4064   7017.101     -0.529      0.597   -1.75e+04    1.01e+04\n",
       "Neighborhood_CollgCr  5646.3531   3498.595      1.614      0.107   -1216.650    1.25e+04\n",
       "Neighborhood_Crawfor  7977.0340   5147.858      1.550      0.121   -2121.238    1.81e+04\n",
       "Neighborhood_Edwards -3.869e+04   3911.576     -9.892      0.000   -4.64e+04    -3.1e+04\n",
       "Neighborhood_Gilbert  1675.8161   4454.387      0.376      0.707   -7062.111    1.04e+04\n",
       "Neighborhood_IDOTRR  -4.913e+04   7971.237     -6.163      0.000   -6.48e+04   -3.35e+04\n",
       "Neighborhood_MeadowV -2.442e+04   9441.909     -2.587      0.010   -4.29e+04   -5901.628\n",
       "Neighborhood_Mitchel -7674.9412   5284.329     -1.452      0.147    -1.8e+04    2691.039\n",
       "Neighborhood_NAmes   -2.161e+04   3210.721     -6.731      0.000   -2.79e+04   -1.53e+04\n",
       "Neighborhood_NPkVill   1.85e+04   1.21e+04      1.534      0.125   -5153.080    4.21e+04\n",
       "Neighborhood_NWAmes  -1.006e+04   4537.851     -2.217      0.027    -1.9e+04   -1159.699\n",
       "Neighborhood_NoRidge  7.247e+04   6095.110     11.890      0.000    6.05e+04    8.44e+04\n",
       "Neighborhood_NridgHt  6.486e+04   4950.528     13.103      0.000    5.52e+04    7.46e+04\n",
       "Neighborhood_OldTown -5.377e+04   5267.649    -10.207      0.000   -6.41e+04   -4.34e+04\n",
       "Neighborhood_SWISU   -4.452e+04   7407.211     -6.010      0.000    -5.9e+04      -3e+04\n",
       "Neighborhood_Sawyer  -2.331e+04   4574.219     -5.096      0.000   -3.23e+04   -1.43e+04\n",
       "Neighborhood_SawyerW -1208.5818   4955.327     -0.244      0.807   -1.09e+04    8512.014\n",
       "Neighborhood_Somerst  2.408e+04   7908.304      3.045      0.002    8570.628    3.96e+04\n",
       "Neighborhood_StoneBr  7.578e+04   7481.498     10.129      0.000    6.11e+04    9.05e+04\n",
       "Neighborhood_Timber   1.695e+04   6036.034      2.809      0.005    5113.550    2.88e+04\n",
       "Neighborhood_Veenker  3.361e+04   1.06e+04      3.160      0.002    1.27e+04    5.45e+04\n",
       "interaction                   0          0        nan        nan           0           0\n",
       "==============================================================================\n",
       "Omnibus:                      409.806   Durbin-Watson:                   1.950\n",
       "Prob(Omnibus):                  0.000   Jarque-Bera (JB):            28276.179\n",
       "Skew:                          -0.334   Prob(JB):                         0.00\n",
       "Kurtosis:                      24.549   Cond. No.                     4.77e+17\n",
       "==============================================================================\n",
       "\n",
       "Warnings:\n",
       "[1] Standard Errors assume that the covariance matrix of the errors is correctly specified.\n",
       "[2] The smallest eigenvalue is 1.36e-24. This might indicate that there are\n",
       "strong multicollinearity problems or that the design matrix is singular.\n",
       "\"\"\""
      ]
     },
     "execution_count": 72,
     "metadata": {},
     "output_type": "execute_result"
    }
   ],
   "source": [
    "# code here\n",
    "import statsmodels.api as sm\n",
    "X_interact = sm.add_constant(X_interact)\n",
    "model = sm.OLS(y,X_interact)\n",
    "results = model.fit()\n",
    "\n",
    "results.summary()"
   ]
  },
  {
   "cell_type": "markdown",
   "metadata": {},
   "source": [
    "What is your conclusion here?"
   ]
  },
  {
   "cell_type": "code",
   "execution_count": null,
   "metadata": {},
   "outputs": [],
   "source": [
    "# formulate your conclusion\n",
    "#Selected interaction improved R2 value significantly,  from 0.777 to 0.809. "
   ]
  },
  {
   "cell_type": "markdown",
   "metadata": {},
   "source": [
    "## Summary"
   ]
  },
  {
   "cell_type": "markdown",
   "metadata": {},
   "source": [
    "You should now understand how to include interaction effects in your model! As you can see, interactions can have a strong impact on linear regression models, and they should always be considered when you are constructing your models."
   ]
  }
 ],
 "metadata": {
  "kernelspec": {
   "display_name": "Python 3",
   "language": "python",
   "name": "python3"
  },
  "language_info": {
   "codemirror_mode": {
    "name": "ipython",
    "version": 3
   },
   "file_extension": ".py",
   "mimetype": "text/x-python",
   "name": "python",
   "nbconvert_exporter": "python",
   "pygments_lexer": "ipython3",
   "version": "3.6.9"
  }
 },
 "nbformat": 4,
 "nbformat_minor": 2
}
